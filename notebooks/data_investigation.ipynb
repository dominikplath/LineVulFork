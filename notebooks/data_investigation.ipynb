{
 "cells": [
  {
   "cell_type": "code",
   "id": "initial_id",
   "metadata": {
    "collapsed": true,
    "ExecuteTime": {
     "end_time": "2024-04-30T19:40:46.231034Z",
     "start_time": "2024-04-30T19:40:45.944690Z"
    }
   },
   "source": [
    "import pandas as pd\n",
    "import os"
   ],
   "outputs": [],
   "execution_count": 1
  },
  {
   "metadata": {
    "ExecuteTime": {
     "end_time": "2024-04-30T19:42:04.872890Z",
     "start_time": "2024-04-30T19:42:00.793782Z"
    }
   },
   "cell_type": "code",
   "source": "val_df = pd.read_csv(os.path.join(\"..\", \"data\", \"big-vul_dataset\", \"val.csv\"))",
   "id": "5928a06ff618e531",
   "outputs": [],
   "execution_count": 4
  },
  {
   "metadata": {
    "ExecuteTime": {
     "end_time": "2024-04-30T19:42:44.271088Z",
     "start_time": "2024-04-30T19:42:44.267561Z"
    }
   },
   "cell_type": "code",
   "source": "val_df.iloc[0][\"func_after\"]",
   "id": "acd4d66e86997a4e",
   "outputs": [
    {
     "data": {
      "text/plain": [
       "'void PdfCompositorClient::Connect(service_manager::Connector* connector) {\\n  DCHECK(!compositor_.is_bound());\\n  connector->BindInterface(mojom::kServiceName, &compositor_);\\n}\\n'"
      ]
     },
     "execution_count": 6,
     "metadata": {},
     "output_type": "execute_result"
    }
   ],
   "execution_count": 6
  },
  {
   "metadata": {},
   "cell_type": "code",
   "outputs": [],
   "execution_count": null,
   "source": "",
   "id": "5267a5a11648e54"
  }
 ],
 "metadata": {
  "kernelspec": {
   "display_name": "Python 3",
   "language": "python",
   "name": "python3"
  },
  "language_info": {
   "codemirror_mode": {
    "name": "ipython",
    "version": 2
   },
   "file_extension": ".py",
   "mimetype": "text/x-python",
   "name": "python",
   "nbconvert_exporter": "python",
   "pygments_lexer": "ipython2",
   "version": "2.7.6"
  }
 },
 "nbformat": 4,
 "nbformat_minor": 5
}
